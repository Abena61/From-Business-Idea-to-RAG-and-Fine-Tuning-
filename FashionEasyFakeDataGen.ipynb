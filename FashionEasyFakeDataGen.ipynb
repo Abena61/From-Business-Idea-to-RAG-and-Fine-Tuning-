{
  "cells": [
    {
      "cell_type": "code",
      "execution_count": null,
      "id": "3a396f0a-dc42-421e-a942-9fdd13168b41",
      "metadata": {
        "id": "3a396f0a-dc42-421e-a942-9fdd13168b41"
      },
      "outputs": [],
      "source": [
        "import sqlite3\n",
        "import pandas as pd\n",
        "from faker import Faker\n",
        "import random"
      ]
    },
    {
      "cell_type": "code",
      "execution_count": null,
      "id": "a8e72c2c-280f-405e-894a-702404a3d6ed",
      "metadata": {
        "id": "a8e72c2c-280f-405e-894a-702404a3d6ed"
      },
      "outputs": [],
      "source": [
        "# Initialize Faker\n",
        "fake = Faker()"
      ]
    },
    {
      "cell_type": "code",
      "execution_count": null,
      "id": "8a3d75f1-45f9-4c1e-a7e8-bb3a47b2f934",
      "metadata": {
        "id": "8a3d75f1-45f9-4c1e-a7e8-bb3a47b2f934"
      },
      "outputs": [],
      "source": [
        "# Connect to SQLite\n",
        "conn = sqlite3.connect(\"fakefashioneasydatabase.db\")\n",
        "cursor = conn.cursor()"
      ]
    },
    {
      "cell_type": "code",
      "execution_count": null,
      "id": "17088127-1838-4a25-a9ae-93b4d2a65ce7",
      "metadata": {
        "id": "17088127-1838-4a25-a9ae-93b4d2a65ce7",
        "outputId": "06c92457-1025-475a-d600-52cbfb643d57"
      },
      "outputs": [
        {
          "data": {
            "text/plain": [
              "1000"
            ]
          },
          "execution_count": 7,
          "metadata": {},
          "output_type": "execute_result"
        }
      ],
      "source": [
        "# Generate Users with noise\n",
        "users = []\n",
        "for i in range(1000):\n",
        "    email = fake.unique.email()\n",
        "    # Include intermittent typos in emails\n",
        "    if random.random() < 0.05:\n",
        "        email = email.replace(\"@\", random.choice([\"@\", \"!\", \"#\"]))\n",
        "\n",
        "    users.append((\n",
        "        fake.unique.random_int(min=1000, max=9999),  # Unique user_id\n",
        "        fake.name(),\n",
        "        email,  # Use modified email with typos\n",
        "        fake.country(),\n",
        "        fake.zipcode()\n",
        "    ))\n",
        "user_df = pd.DataFrame(users, columns=[\"user_id\", \"user_name\", \"email\", \"user_country\", \"user_zipcode\"])\n",
        "user_df.to_sql('Users', conn, if_exists='replace', index=False)"
      ]
    },
    {
      "cell_type": "code",
      "execution_count": null,
      "id": "86891719-236a-422b-8c8f-12c55bf39b1a",
      "metadata": {
        "id": "86891719-236a-422b-8c8f-12c55bf39b1a",
        "outputId": "137fd445-85cc-4769-efb5-e58600630658"
      },
      "outputs": [
        {
          "data": {
            "text/plain": [
              "1000"
            ]
          },
          "execution_count": 9,
          "metadata": {},
          "output_type": "execute_result"
        }
      ],
      "source": [
        "# Generate vendor with noise\n",
        "vendors = []\n",
        "for i in range(1000):\n",
        "    vendor_id = fake.random_int(min=1000, max=9999)  # Unique vendor_id\n",
        "    vendor_name = fake.company()\n",
        "    location = fake.city()\n",
        "\n",
        "    # Introduce intermittent typos in vendor names (5% chance)\n",
        "    if random.random() < 0.05:\n",
        "        vendor_name = vendor_name.replace(\" \", random.choice([\"_\", \"-\", \"\"]))\n",
        "\n",
        "    vendors.append((vendor_id, vendor_name, location))\n",
        "\n",
        "vendor_df = pd.DataFrame(vendors, columns=[\"vendor_id\", \"vendor_name\", \"location\"])\n",
        "vendor_df.to_sql('Vendors', conn, if_exists='replace', index=False)\n"
      ]
    },
    {
      "cell_type": "code",
      "execution_count": null,
      "id": "268aa0e8-ed13-4722-b2a9-c58d58deb482",
      "metadata": {
        "id": "268aa0e8-ed13-4722-b2a9-c58d58deb482",
        "outputId": "4e16114c-ddf7-481f-89cf-b5d024ce2e76"
      },
      "outputs": [
        {
          "data": {
            "text/plain": [
              "1000"
            ]
          },
          "execution_count": 11,
          "metadata": {},
          "output_type": "execute_result"
        }
      ],
      "source": [
        "# Product Data (following the same structure)\n",
        "products = []\n",
        "for i in range(1000):\n",
        "    products.append({\n",
        "        'product_id': i + 1,\n",
        "        'vendor_id': random.randint(1000, 9999),  # Assuming valid vendor_id range\n",
        "        'price': round(random.uniform(10, 500), 2),  # Random price\n",
        "        'inventory': random.randint(1, 100)  # Random stock quantity\n",
        "    })\n",
        "\n",
        "product_df = pd.DataFrame(products)\n",
        "product_df.to_sql('Products', conn, if_exists='replace', index=False)\n"
      ]
    },
    {
      "cell_type": "code",
      "execution_count": null,
      "id": "b6ffeb06-a0c3-4b53-b0f9-c7cf05aef244",
      "metadata": {
        "id": "b6ffeb06-a0c3-4b53-b0f9-c7cf05aef244",
        "outputId": "e337adb3-7182-47cd-fa38-89cd4a0d60c1"
      },
      "outputs": [
        {
          "data": {
            "text/plain": [
              "2000"
            ]
          },
          "execution_count": 13,
          "metadata": {},
          "output_type": "execute_result"
        }
      ],
      "source": [
        "# Orders Data (with noise)\n",
        "orders = []\n",
        "for i in range(2000):  # Assuming 2000 orders\n",
        "    order_date = fake.date_between(start_date='-1y', end_date='today')\n",
        "\n",
        "    # Introduce incorrect dates (3% chance)\n",
        "    if random.random() < 0.03:\n",
        "        order_date = fake.date_between(start_date='-2y', end_date='-1y')  # Wrong year\n",
        "\n",
        "    order_status = random.choice(['Pending', 'Completed', 'Cancelled'])\n",
        "\n",
        "    # Introduce unexpected statuses (3% chance)\n",
        "    if random.random() < 0.03:\n",
        "        order_status = random.choice(['Failed', 'On Hold', 'Refunded'])  # Unexpected statuses\n",
        "\n",
        "    orders.append({\n",
        "        'order_id':11110 + i,\n",
        "        'user_id': i + 1,  # Assuming user_id matches order_id sequentially\n",
        "        'order_date': order_date,\n",
        "        'order_status': order_status\n",
        "    })\n",
        "\n",
        "# Two-line database storage\n",
        "order_df = pd.DataFrame(orders)\n",
        "order_df.to_sql('Orders', conn, if_exists='replace', index=False)"
      ]
    },
    {
      "cell_type": "code",
      "execution_count": null,
      "id": "5210f82f-6461-4ae9-854e-dd76e857d28b",
      "metadata": {
        "id": "5210f82f-6461-4ae9-854e-dd76e857d28b",
        "outputId": "cc2d5bac-bae2-4a67-b750-993cb07e3a1c"
      },
      "outputs": [
        {
          "data": {
            "text/plain": [
              "2000"
            ]
          },
          "execution_count": 21,
          "metadata": {},
          "output_type": "execute_result"
        }
      ],
      "source": [
        "# Order Details Data with Noise\n",
        "order_details = []\n",
        "for i in range(2000):\n",
        "    quantity = random.randint(1, 5)  # Random quantity (1-5 items)\n",
        "\n",
        "    # Introduce incorrect quantities (5% chance)\n",
        "    if random.random() < 0.05:\n",
        "        quantity = random.randint(6, 20)  # Unusually high quantity\n",
        "\n",
        "    delivery_address = fake.address()\n",
        "\n",
        "    order_details.append({\n",
        "        'order_id': 11110 + i,\n",
        "        'product_id': i + 1,\n",
        "        'quantity': quantity,\n",
        "        'delivery_address': delivery_address\n",
        "    })\n",
        "\n",
        "order_details_df = pd.DataFrame(order_details)\n",
        "order_details_df.to_sql('OrderDetails', conn, if_exists='replace', index=False)"
      ]
    },
    {
      "cell_type": "code",
      "execution_count": null,
      "id": "972d33bd-1238-4177-b324-e84765e11989",
      "metadata": {
        "id": "972d33bd-1238-4177-b324-e84765e11989",
        "outputId": "4105d17a-d502-4c6c-dd0c-93e2d7198eb2"
      },
      "outputs": [
        {
          "name": "stdout",
          "output_type": "stream",
          "text": [
            "500\n"
          ]
        }
      ],
      "source": [
        "# Styling Preferences Data (with noise)\n",
        "styling_preferences = []\n",
        "for i in range(500):  # Ensuring loop runs 500 times\n",
        "    preference_details = random.choice([\n",
        "        'Casual Wear', 'Formal Wear', 'Traditional African', 'Street Style',\n",
        "        'Business Attire', 'Athleisure', 'Evening Wear', 'Cultural Event',\n",
        "        'Minimalist', 'Bold & Colorful'\n",
        "    ])\n",
        "\n",
        "    # Introduce occasional incorrect values (5% chance)\n",
        "    if random.random() < 0.05:\n",
        "        preference_details = \"Unknown Preference\"  # Unexpected category\n",
        "\n",
        "    styling_preferences.append({\n",
        "        'styling_id': i + 1,  # Ensuring unique IDs\n",
        "        'preference_details': preference_details\n",
        "    })\n",
        "\n",
        "# Convert to DataFrame\n",
        "styling_preferences_df = pd.DataFrame(styling_preferences)\n",
        "\n",
        "# Insert into database and return row count\n",
        "if not styling_preferences_df.empty:\n",
        "    rows_inserted = styling_preferences_df.to_sql('StylingPreferences', conn, if_exists='replace', index=False)\n",
        "    print(rows_inserted)  # Print the number of rows inserted\n"
      ]
    },
    {
      "cell_type": "code",
      "execution_count": null,
      "id": "d998f93c-c5cd-424b-ba3d-8e771f604559",
      "metadata": {
        "id": "d998f93c-c5cd-424b-ba3d-8e771f604559",
        "outputId": "45985912-55c7-4ebc-c268-0a910f5ae882"
      },
      "outputs": [
        {
          "data": {
            "text/plain": [
              "100"
            ]
          },
          "execution_count": 47,
          "metadata": {},
          "output_type": "execute_result"
        }
      ],
      "source": [
        "# Styling Suggestions Data (with noise)\n",
        "styling_suggestions = []\n",
        "for i in range(100):  # Assuming 100 styling suggestions\n",
        "    event_details = random.choice([\n",
        "        'Wedding', 'Party', 'Corporate Meeting', 'Casual Outing', 'Date Night',\n",
        "        'Graduation', 'Religious Event', 'Beach Party', 'Festival', 'Night Out'\n",
        "    ])\n",
        "\n",
        "    # Introduce occasional incorrect values (5% chance)\n",
        "    if random.random() < 0.05:\n",
        "        event_details = \"Unknown Event\"  # Unexpected category\n",
        "\n",
        "    styling_suggestions.append({\n",
        "        'styling_suggestion_id': i + 1,\n",
        "        'user_id': random.randint(1, 1000),  # Assuming 1000 users exist\n",
        "        'product_id': random.randint(10000, 10999),  # Assuming product IDs exist in this range\n",
        "        'styling_id': random.randint(1, 50),  # Assuming 50 styling preferences exist\n",
        "        'event_details': event_details\n",
        "    })\n",
        "\n",
        "styling_suggestions_df = pd.DataFrame(styling_suggestions)\n",
        "styling_suggestions_df.to_sql('StylingSuggestions', conn, if_exists='replace', index=False)"
      ]
    }
  ],
  "metadata": {
    "kernelspec": {
      "display_name": "Python [conda env:base] *",
      "language": "python",
      "name": "conda-base-py"
    },
    "language_info": {
      "codemirror_mode": {
        "name": "ipython",
        "version": 3
      },
      "file_extension": ".py",
      "mimetype": "text/x-python",
      "name": "python",
      "nbconvert_exporter": "python",
      "pygments_lexer": "ipython3",
      "version": "3.12.7"
    },
    "colab": {
      "provenance": []
    }
  },
  "nbformat": 4,
  "nbformat_minor": 5
}