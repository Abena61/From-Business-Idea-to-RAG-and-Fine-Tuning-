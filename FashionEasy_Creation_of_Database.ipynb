{
  "cells": [
    {
      "cell_type": "code",
      "execution_count": null,
      "id": "21a1e522-09be-444c-b730-7be13ffd230c",
      "metadata": {
        "id": "21a1e522-09be-444c-b730-7be13ffd230c",
        "outputId": "dc1e2596-8511-445a-8ecd-7ab2b5b560cd",
        "colab": {
          "base_uri": "https://localhost:8080/"
        }
      },
      "outputs": [
        {
          "output_type": "stream",
          "name": "stdout",
          "text": [
            "Tables created successfully!\n"
          ]
        }
      ],
      "source": [
        "import sqlite3\n",
        "\n",
        "# Connect to SQLite database (creates a new file if it doesn't exist)\n",
        "connection = sqlite3.connect('ecommerce.db')  # Replace 'ecommerce.db' with your desired database name\n",
        "\n",
        "cursor = connection.cursor()\n",
        "\n",
        "# List of CREATE TABLE statements\n",
        "sql_statements = [\n",
        "    \"\"\"\n",
        "    CREATE TABLE Users (\n",
        "        UserID INTEGER PRIMARY KEY AUTOINCREMENT,\n",
        "        Name TEXT NOT NULL,\n",
        "        Email TEXT UNIQUE NOT NULL,\n",
        "        PasswordHash TEXT NOT NULL,\n",
        "        Preferences TEXT,\n",
        "        SizeDetails TEXT\n",
        "    )\n",
        "    \"\"\",\n",
        "    \"\"\"\n",
        "    CREATE TABLE Vendors (\n",
        "        VendorID INTEGER PRIMARY KEY AUTOINCREMENT,\n",
        "        Name TEXT NOT NULL,\n",
        "        Location TEXT,\n",
        "        ContactEmail TEXT\n",
        "    )\n",
        "    \"\"\",\n",
        "    \"\"\"\n",
        "    CREATE TABLE Products (\n",
        "        ProductID INTEGER PRIMARY KEY AUTOINCREMENT,\n",
        "        VendorID INTEGER,\n",
        "        Name TEXT NOT NULL,\n",
        "        Category TEXT,\n",
        "        SizeOptions TEXT,\n",
        "        Price REAL,\n",
        "        Stock INTEGER,\n",
        "        FOREIGN KEY (VendorID) REFERENCES Vendors(VendorID)\n",
        "    )\n",
        "    \"\"\",\n",
        "    \"\"\"\n",
        "    CREATE TABLE Orders (\n",
        "        OrderID INTEGER PRIMARY KEY AUTOINCREMENT,\n",
        "        UserID INTEGER,\n",
        "        OrderDate DATE,\n",
        "        Status TEXT,\n",
        "        TotalAmount REAL,\n",
        "        FOREIGN KEY (UserID) REFERENCES Users(UserID)\n",
        "    )\n",
        "    \"\"\",\n",
        "    \"\"\"\n",
        "    CREATE TABLE OrderDetails (\n",
        "        OrderDetailID INTEGER PRIMARY KEY AUTOINCREMENT,\n",
        "        OrderID INTEGER,\n",
        "        ProductID INTEGER,\n",
        "        Quantity INTEGER,\n",
        "        FOREIGN KEY (OrderID) REFERENCES Orders(OrderID),\n",
        "        FOREIGN KEY (ProductID) REFERENCES Products(ProductID)\n",
        "    )\n",
        "    \"\"\",\n",
        "    \"\"\"\n",
        "    CREATE TABLE StylingSuggestions (\n",
        "        SuggestionID INTEGER PRIMARY KEY AUTOINCREMENT,\n",
        "        UserID INTEGER,\n",
        "        ProductIDs TEXT,\n",
        "        EventDetails TEXT,\n",
        "        CreatedAt TIMESTAMP DEFAULT CURRENT_TIMESTAMP,\n",
        "        FOREIGN KEY (UserID) REFERENCES Users(UserID)\n",
        "    )\n",
        "    \"\"\"\n",
        "]\n",
        "\n",
        "# Execute each statement\n",
        "for statement in sql_statements:\n",
        "    cursor.execute(statement)\n",
        "\n",
        "# Commit changes and close connection\n",
        "connection.commit()\n",
        "connection.close()\n",
        "\n",
        "print(\"Tables created successfully!\")\n"
      ]
    },
    {
      "cell_type": "code",
      "execution_count": null,
      "id": "e5b913f6-6418-4fff-b272-fd7665391cf7",
      "metadata": {
        "id": "e5b913f6-6418-4fff-b272-fd7665391cf7",
        "colab": {
          "base_uri": "https://localhost:8080/"
        },
        "outputId": "98f0660f-8a02-4435-9920-2c2a6104ad5c"
      },
      "outputs": [
        {
          "output_type": "stream",
          "name": "stdout",
          "text": [
            "Tables in the database: []\n"
          ]
        }
      ],
      "source": [
        "## example of code to test schema\n",
        "import sqlite3\n",
        "\n",
        "conn = sqlite3.connect('database.db')\n",
        "cursor = conn.cursor()\n",
        "\n",
        "# Query to list all tables\n",
        "cursor.execute(\"SELECT name FROM sqlite_master WHERE type='table';\")\n",
        "tables = cursor.fetchall()\n",
        "print(\"Tables in the database:\", tables)\n",
        "\n",
        "conn.close()\n",
        "\n"
      ]
    }
  ],
  "metadata": {
    "kernelspec": {
      "display_name": "Python [conda env:base] *",
      "language": "python",
      "name": "conda-base-py"
    },
    "language_info": {
      "codemirror_mode": {
        "name": "ipython",
        "version": 3
      },
      "file_extension": ".py",
      "mimetype": "text/x-python",
      "name": "python",
      "nbconvert_exporter": "python",
      "pygments_lexer": "ipython3",
      "version": "3.12.7"
    },
    "colab": {
      "provenance": []
    }
  },
  "nbformat": 4,
  "nbformat_minor": 5
}